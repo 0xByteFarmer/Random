{
 "cells": [
  {
   "cell_type": "code",
   "execution_count": 1,
   "metadata": {},
   "outputs": [],
   "source": [
    "import numpy as np\n",
    "from typing import TypedDict"
   ]
  },
  {
   "cell_type": "code",
   "execution_count": 2,
   "metadata": {},
   "outputs": [],
   "source": [
    "class ValueProbabilityPair(TypedDict):\n",
    "    value: int\n",
    "    probability: float"
   ]
  },
  {
   "cell_type": "code",
   "execution_count": 3,
   "metadata": {},
   "outputs": [],
   "source": [
    "def isoelastic_utility(value, gamma):\n",
    "  if(gamma == 1):\n",
    "    return np.log(value)\n",
    "  return (value**(1-gamma)-1)/(1-gamma)\n",
    "\n",
    "def isoelastic_expectation(outcome_dict:list[ValueProbabilityPair], gamma):\n",
    "  expected_utility = 0\n",
    "  for pair in outcome_dict:\n",
    "    expected_utility += pair['probability'] * isoelastic_utility(pair['value'], gamma)\n",
    "  return expected_utility\n",
    "\n",
    "def certainty_equivalent(isoelastic_expectation, gamma):\n",
    "  if(gamma == 1):\n",
    "    return np.exp(isoelastic_expectation)\n",
    "  return (((1-gamma)*isoelastic_expectation)+1)**(1/(1-gamma))\n",
    "\n",
    "def print_CRRA_values(outcome_dict: list[ValueProbabilityPair]):\n",
    "  for gamma in (0,1,2,3.5,5):\n",
    "    print(f\"Gamma: {gamma}\")\n",
    "    expectation = isoelastic_expectation(outcome_probabilities, gamma)\n",
    "    print(f\"Isoelastic Expectation: {expectation}\")\n",
    "    certainty_equivalent_value = certainty_equivalent(expectation, gamma)\n",
    "    print(f\"Certainty Equivalent Value: {certainty_equivalent_value}\")\n",
    "    print(\"*************\")"
   ]
  },
  {
   "cell_type": "code",
   "execution_count": 4,
   "metadata": {},
   "outputs": [
    {
     "name": "stdout",
     "output_type": "stream",
     "text": [
      "Gamma: 0\n",
      "Isoelastic Expectation: 999999.0\n",
      "Certainty Equivalent Value: 1000000.0\n",
      "*************\n",
      "Gamma: 1\n",
      "Isoelastic Expectation: 13.671669521738384\n",
      "Certainty Equivalent Value: 866025.4037844387\n",
      "*************\n",
      "Gamma: 2\n",
      "Isoelastic Expectation: 0.9999986666666667\n",
      "Certainty Equivalent Value: 750000.0000200666\n",
      "*************\n",
      "Gamma: 3.5\n",
      "Isoelastic Expectation: 0.3999999999999988\n",
      "Certainty Equivalent Value: 644600.1502599099\n",
      "*************\n",
      "Gamma: 5\n",
      "Isoelastic Expectation: 0.25\n"
     ]
    },
    {
     "ename": "ZeroDivisionError",
     "evalue": "0.0 cannot be raised to a negative power",
     "output_type": "error",
     "traceback": [
      "\u001b[0;31m---------------------------------------------------------------------------\u001b[0m",
      "\u001b[0;31mZeroDivisionError\u001b[0m                         Traceback (most recent call last)",
      "Cell \u001b[0;32mIn[4], line 6\u001b[0m\n\u001b[1;32m      1\u001b[0m outcome_probabilities: \u001b[38;5;28mlist\u001b[39m[ValueProbabilityPair] \u001b[38;5;241m=\u001b[39m [\n\u001b[1;32m      2\u001b[0m     {\u001b[38;5;124m\"\u001b[39m\u001b[38;5;124mvalue\u001b[39m\u001b[38;5;124m\"\u001b[39m: \u001b[38;5;241m500000\u001b[39m, \u001b[38;5;124m\"\u001b[39m\u001b[38;5;124mprobability\u001b[39m\u001b[38;5;124m\"\u001b[39m: \u001b[38;5;241m1\u001b[39m\u001b[38;5;241m/\u001b[39m\u001b[38;5;241m2\u001b[39m},\n\u001b[1;32m      3\u001b[0m     {\u001b[38;5;124m\"\u001b[39m\u001b[38;5;124mvalue\u001b[39m\u001b[38;5;124m\"\u001b[39m: \u001b[38;5;241m1500000\u001b[39m, \u001b[38;5;124m\"\u001b[39m\u001b[38;5;124mprobability\u001b[39m\u001b[38;5;124m\"\u001b[39m: \u001b[38;5;241m1\u001b[39m\u001b[38;5;241m/\u001b[39m\u001b[38;5;241m2\u001b[39m},\n\u001b[1;32m      4\u001b[0m ]\n\u001b[0;32m----> 6\u001b[0m \u001b[43mprint_CRRA_values\u001b[49m\u001b[43m(\u001b[49m\u001b[43moutcome_probabilities\u001b[49m\u001b[43m)\u001b[49m\n",
      "Cell \u001b[0;32mIn[3], line 22\u001b[0m, in \u001b[0;36mprint_CRRA_values\u001b[0;34m(outcome_dict)\u001b[0m\n\u001b[1;32m     20\u001b[0m expectation \u001b[38;5;241m=\u001b[39m isoelastic_expectation(outcome_probabilities, gamma)\n\u001b[1;32m     21\u001b[0m \u001b[38;5;28mprint\u001b[39m(\u001b[38;5;124mf\u001b[39m\u001b[38;5;124m\"\u001b[39m\u001b[38;5;124mIsoelastic Expectation: \u001b[39m\u001b[38;5;132;01m{\u001b[39;00mexpectation\u001b[38;5;132;01m}\u001b[39;00m\u001b[38;5;124m\"\u001b[39m)\n\u001b[0;32m---> 22\u001b[0m certainty_equivalent_value \u001b[38;5;241m=\u001b[39m \u001b[43mcertainty_equivalent\u001b[49m\u001b[43m(\u001b[49m\u001b[43mexpectation\u001b[49m\u001b[43m,\u001b[49m\u001b[43m \u001b[49m\u001b[43mgamma\u001b[49m\u001b[43m)\u001b[49m\n\u001b[1;32m     23\u001b[0m \u001b[38;5;28mprint\u001b[39m(\u001b[38;5;124mf\u001b[39m\u001b[38;5;124m\"\u001b[39m\u001b[38;5;124mCertainty Equivalent Value: \u001b[39m\u001b[38;5;132;01m{\u001b[39;00mcertainty_equivalent_value\u001b[38;5;132;01m}\u001b[39;00m\u001b[38;5;124m\"\u001b[39m)\n\u001b[1;32m     24\u001b[0m \u001b[38;5;28mprint\u001b[39m(\u001b[38;5;124m\"\u001b[39m\u001b[38;5;124m*************\u001b[39m\u001b[38;5;124m\"\u001b[39m)\n",
      "Cell \u001b[0;32mIn[3], line 15\u001b[0m, in \u001b[0;36mcertainty_equivalent\u001b[0;34m(isoelastic_expectation, gamma)\u001b[0m\n\u001b[1;32m     13\u001b[0m \u001b[38;5;28;01mif\u001b[39;00m(gamma \u001b[38;5;241m==\u001b[39m \u001b[38;5;241m1\u001b[39m):\n\u001b[1;32m     14\u001b[0m   \u001b[38;5;28;01mreturn\u001b[39;00m np\u001b[38;5;241m.\u001b[39mexp(isoelastic_expectation)\n\u001b[0;32m---> 15\u001b[0m \u001b[38;5;28;01mreturn\u001b[39;00m \u001b[43m(\u001b[49m\u001b[43m(\u001b[49m\u001b[43m(\u001b[49m\u001b[38;5;241;43m1\u001b[39;49m\u001b[38;5;241;43m-\u001b[39;49m\u001b[43mgamma\u001b[49m\u001b[43m)\u001b[49m\u001b[38;5;241;43m*\u001b[39;49m\u001b[43misoelastic_expectation\u001b[49m\u001b[43m)\u001b[49m\u001b[38;5;241;43m+\u001b[39;49m\u001b[38;5;241;43m1\u001b[39;49m\u001b[43m)\u001b[49m\u001b[38;5;241;43m*\u001b[39;49m\u001b[38;5;241;43m*\u001b[39;49m\u001b[43m(\u001b[49m\u001b[38;5;241;43m1\u001b[39;49m\u001b[38;5;241;43m/\u001b[39;49m\u001b[43m(\u001b[49m\u001b[38;5;241;43m1\u001b[39;49m\u001b[38;5;241;43m-\u001b[39;49m\u001b[43mgamma\u001b[49m\u001b[43m)\u001b[49m\u001b[43m)\u001b[49m\n",
      "\u001b[0;31mZeroDivisionError\u001b[0m: 0.0 cannot be raised to a negative power"
     ]
    }
   ],
   "source": [
    "outcome_probabilities: list[ValueProbabilityPair] = [\n",
    "    {\"value\": 500000, \"probability\": 1/2},\n",
    "    {\"value\": 1500000, \"probability\": 1/2},\n",
    "]\n",
    "\n",
    "print_CRRA_values(outcome_probabilities)"
   ]
  },
  {
   "cell_type": "code",
   "execution_count": 5,
   "metadata": {},
   "outputs": [
    {
     "name": "stdout",
     "output_type": "stream",
     "text": [
      "Gamma: 0\n",
      "Isoelastic Expectation: 999999.0\n",
      "Certainty Equivalent Value: 1000000.0\n",
      "*************\n",
      "Gamma: 1\n",
      "Isoelastic Expectation: 13.745066439246406\n",
      "Certainty Equivalent Value: 931979.81829784\n",
      "*************\n",
      "Gamma: 2\n",
      "Isoelastic Expectation: 0.9999988400000002\n",
      "Certainty Equivalent Value: 862068.9656409658\n",
      "*************\n",
      "Gamma: 3.5\n",
      "Isoelastic Expectation: 0.39999999999999925\n",
      "Certainty Equivalent Value: 775633.1094401537\n",
      "*************\n",
      "Gamma: 5\n",
      "Isoelastic Expectation: 0.25\n"
     ]
    },
    {
     "ename": "ZeroDivisionError",
     "evalue": "0.0 cannot be raised to a negative power",
     "output_type": "error",
     "traceback": [
      "\u001b[0;31m---------------------------------------------------------------------------\u001b[0m",
      "\u001b[0;31mZeroDivisionError\u001b[0m                         Traceback (most recent call last)",
      "Cell \u001b[0;32mIn[5], line 9\u001b[0m\n\u001b[1;32m      1\u001b[0m outcome_probabilities: \u001b[38;5;28mlist\u001b[39m[ValueProbabilityPair] \u001b[38;5;241m=\u001b[39m [\n\u001b[1;32m      2\u001b[0m     {\u001b[38;5;124m\"\u001b[39m\u001b[38;5;124mvalue\u001b[39m\u001b[38;5;124m\"\u001b[39m: \u001b[38;5;241m500000\u001b[39m, \u001b[38;5;124m\"\u001b[39m\u001b[38;5;124mprobability\u001b[39m\u001b[38;5;124m\"\u001b[39m: \u001b[38;5;241m1\u001b[39m\u001b[38;5;241m/\u001b[39m\u001b[38;5;241m5\u001b[39m},\n\u001b[1;32m      3\u001b[0m     {\u001b[38;5;124m\"\u001b[39m\u001b[38;5;124mvalue\u001b[39m\u001b[38;5;124m\"\u001b[39m: \u001b[38;5;241m750000\u001b[39m, \u001b[38;5;124m\"\u001b[39m\u001b[38;5;124mprobability\u001b[39m\u001b[38;5;124m\"\u001b[39m: \u001b[38;5;241m1\u001b[39m\u001b[38;5;241m/\u001b[39m\u001b[38;5;241m5\u001b[39m},\n\u001b[0;32m   (...)\u001b[0m\n\u001b[1;32m      6\u001b[0m     {\u001b[38;5;124m\"\u001b[39m\u001b[38;5;124mvalue\u001b[39m\u001b[38;5;124m\"\u001b[39m: \u001b[38;5;241m1500000\u001b[39m, \u001b[38;5;124m\"\u001b[39m\u001b[38;5;124mprobability\u001b[39m\u001b[38;5;124m\"\u001b[39m: \u001b[38;5;241m1\u001b[39m\u001b[38;5;241m/\u001b[39m\u001b[38;5;241m5\u001b[39m},\n\u001b[1;32m      7\u001b[0m ]\n\u001b[0;32m----> 9\u001b[0m \u001b[43mprint_CRRA_values\u001b[49m\u001b[43m(\u001b[49m\u001b[43moutcome_probabilities\u001b[49m\u001b[43m)\u001b[49m\n",
      "Cell \u001b[0;32mIn[3], line 22\u001b[0m, in \u001b[0;36mprint_CRRA_values\u001b[0;34m(outcome_dict)\u001b[0m\n\u001b[1;32m     20\u001b[0m expectation \u001b[38;5;241m=\u001b[39m isoelastic_expectation(outcome_probabilities, gamma)\n\u001b[1;32m     21\u001b[0m \u001b[38;5;28mprint\u001b[39m(\u001b[38;5;124mf\u001b[39m\u001b[38;5;124m\"\u001b[39m\u001b[38;5;124mIsoelastic Expectation: \u001b[39m\u001b[38;5;132;01m{\u001b[39;00mexpectation\u001b[38;5;132;01m}\u001b[39;00m\u001b[38;5;124m\"\u001b[39m)\n\u001b[0;32m---> 22\u001b[0m certainty_equivalent_value \u001b[38;5;241m=\u001b[39m \u001b[43mcertainty_equivalent\u001b[49m\u001b[43m(\u001b[49m\u001b[43mexpectation\u001b[49m\u001b[43m,\u001b[49m\u001b[43m \u001b[49m\u001b[43mgamma\u001b[49m\u001b[43m)\u001b[49m\n\u001b[1;32m     23\u001b[0m \u001b[38;5;28mprint\u001b[39m(\u001b[38;5;124mf\u001b[39m\u001b[38;5;124m\"\u001b[39m\u001b[38;5;124mCertainty Equivalent Value: \u001b[39m\u001b[38;5;132;01m{\u001b[39;00mcertainty_equivalent_value\u001b[38;5;132;01m}\u001b[39;00m\u001b[38;5;124m\"\u001b[39m)\n\u001b[1;32m     24\u001b[0m \u001b[38;5;28mprint\u001b[39m(\u001b[38;5;124m\"\u001b[39m\u001b[38;5;124m*************\u001b[39m\u001b[38;5;124m\"\u001b[39m)\n",
      "Cell \u001b[0;32mIn[3], line 15\u001b[0m, in \u001b[0;36mcertainty_equivalent\u001b[0;34m(isoelastic_expectation, gamma)\u001b[0m\n\u001b[1;32m     13\u001b[0m \u001b[38;5;28;01mif\u001b[39;00m(gamma \u001b[38;5;241m==\u001b[39m \u001b[38;5;241m1\u001b[39m):\n\u001b[1;32m     14\u001b[0m   \u001b[38;5;28;01mreturn\u001b[39;00m np\u001b[38;5;241m.\u001b[39mexp(isoelastic_expectation)\n\u001b[0;32m---> 15\u001b[0m \u001b[38;5;28;01mreturn\u001b[39;00m \u001b[43m(\u001b[49m\u001b[43m(\u001b[49m\u001b[43m(\u001b[49m\u001b[38;5;241;43m1\u001b[39;49m\u001b[38;5;241;43m-\u001b[39;49m\u001b[43mgamma\u001b[49m\u001b[43m)\u001b[49m\u001b[38;5;241;43m*\u001b[39;49m\u001b[43misoelastic_expectation\u001b[49m\u001b[43m)\u001b[49m\u001b[38;5;241;43m+\u001b[39;49m\u001b[38;5;241;43m1\u001b[39;49m\u001b[43m)\u001b[49m\u001b[38;5;241;43m*\u001b[39;49m\u001b[38;5;241;43m*\u001b[39;49m\u001b[43m(\u001b[49m\u001b[38;5;241;43m1\u001b[39;49m\u001b[38;5;241;43m/\u001b[39;49m\u001b[43m(\u001b[49m\u001b[38;5;241;43m1\u001b[39;49m\u001b[38;5;241;43m-\u001b[39;49m\u001b[43mgamma\u001b[49m\u001b[43m)\u001b[49m\u001b[43m)\u001b[49m\n",
      "\u001b[0;31mZeroDivisionError\u001b[0m: 0.0 cannot be raised to a negative power"
     ]
    }
   ],
   "source": [
    "outcome_probabilities: list[ValueProbabilityPair] = [\n",
    "    {\"value\": 500000, \"probability\": 1/5},\n",
    "    {\"value\": 750000, \"probability\": 1/5},\n",
    "    {\"value\": 1000000, \"probability\": 1/5},\n",
    "    {\"value\": 1250000, \"probability\": 1/5},\n",
    "    {\"value\": 1500000, \"probability\": 1/5},\n",
    "]\n",
    "\n",
    "print_CRRA_values(outcome_probabilities)"
   ]
  },
  {
   "cell_type": "code",
   "execution_count": null,
   "metadata": {},
   "outputs": [],
   "source": []
  },
  {
   "cell_type": "code",
   "execution_count": null,
   "metadata": {},
   "outputs": [],
   "source": []
  }
 ],
 "metadata": {
  "kernelspec": {
   "display_name": "karagen",
   "language": "python",
   "name": "python3"
  },
  "language_info": {
   "codemirror_mode": {
    "name": "ipython",
    "version": 3
   },
   "file_extension": ".py",
   "mimetype": "text/x-python",
   "name": "python",
   "nbconvert_exporter": "python",
   "pygments_lexer": "ipython3",
   "version": "3.11.6"
  }
 },
 "nbformat": 4,
 "nbformat_minor": 2
}
