{
 "cells": [
  {
   "cell_type": "code",
   "execution_count": 19,
   "metadata": {},
   "outputs": [],
   "source": [
    "import random\n",
    "from typing import TypedDict\n",
    "import statistics\n"
   ]
  },
  {
   "cell_type": "code",
   "execution_count": 7,
   "metadata": {},
   "outputs": [],
   "source": [
    "PET_LEVEL_TO_DROPRATE_MULTIPLIER = {\n",
    "    1:1.0,\n",
    "    2:1.0,\n",
    "    3:1.0,\n",
    "    4:1.33,\n",
    "    5:1.67,\n",
    "    6:2.0,\n",
    "    7:2.33,\n",
    "    8:2.67,\n",
    "    9:3.0,\n",
    "    10:3.33,\n",
    "    11:3.67,\n",
    "    12:4.0,\n",
    "}\n",
    "\n",
    "class PetDrops(TypedDict):\n",
    "    item: str\n",
    "    dropRate: int"
   ]
  },
  {
   "cell_type": "code",
   "execution_count": 9,
   "metadata": {},
   "outputs": [],
   "source": [
    "DragonPetDrops: PetDrops = {\n",
    "    \"Hoard\":100,\n",
    "    \"Random Card\":150,\n",
    "    \"Event Card\":500\n",
    "}"
   ]
  },
  {
   "cell_type": "code",
   "execution_count": 31,
   "metadata": {},
   "outputs": [
    {
     "name": "stdout",
     "output_type": "stream",
     "text": [
      "Chance to drop Hoard is 4.0/100 = 0.04 \n",
      "Chance to drop Random Card is 4.0/150 = 0.02666666666666667 \n",
      "Chance to drop Event Card is 4.0/500 = 0.008 \n"
     ]
    }
   ],
   "source": [
    "SIMULATION_DAYS = 365*1000 # 1000 years\n",
    "SIMULATION_HOURS = 24*SIMULATION_DAYS\n",
    "PET_LEVEL = 12\n",
    "\n",
    "PET_LEVEL_DROP_MODIFIER = PET_LEVEL_TO_DROPRATE_MULTIPLIER[PET_LEVEL]\n",
    "\n",
    "for key in DragonPetDrops.keys():\n",
    "    chance_to_drop = PET_LEVEL_DROP_MODIFIER/DragonPetDrops.get(key)\n",
    "    print(f'Chance to drop {key} is {PET_LEVEL_DROP_MODIFIER}/{DragonPetDrops.get(key)} = {PET_LEVEL_DROP_MODIFIER/DragonPetDrops.get(key)} ')\n",
    "\n",
    "item_days_since_last_drop_count = dict() # stores temporary days since last drop count for key \n",
    "drop_results = dict() # stores list of total days since last drop per each item\n",
    "for key in DragonPetDrops.keys():\n",
    "  drop_results[key] = list()\n",
    "  item_days_since_last_drop_count[key] = 0\n",
    "\n",
    "for day in range(SIMULATION_HOURS):\n",
    "    for key in DragonPetDrops.keys():\n",
    "        chance_to_drop = PET_LEVEL_DROP_MODIFIER/DragonPetDrops.get(key)\n",
    "        item_dropped = random.random() < chance_to_drop\n",
    "        if(item_dropped):\n",
    "            drop_results[key].append(item_days_since_last_drop_count[key]/24) #convert simulation hours to days\n",
    "            item_days_since_last_drop_count[key] = 0\n",
    "        else:\n",
    "            item_days_since_last_drop_count[key] += 1\n",
    "\n",
    "          "
   ]
  },
  {
   "cell_type": "code",
   "execution_count": 32,
   "metadata": {},
   "outputs": [
    {
     "name": "stdout",
     "output_type": "stream",
     "text": [
      "Avg days per drop of Hoard is 1.0012714112367085\n",
      "Avg days per drop of Random Card is 1.5185497269254498\n",
      "Avg days per drop of Event Card is 5.148425242571183\n"
     ]
    }
   ],
   "source": [
    "drop_results\n",
    "for key in DragonPetDrops.keys():\n",
    "    avg_drop_days = statistics.mean(drop_results.get(key))\n",
    "    print(f'Avg days per drop of {key} is {avg_drop_days}')\n"
   ]
  },
  {
   "cell_type": "code",
   "execution_count": 26,
   "metadata": {},
   "outputs": [
    {
     "name": "stdout",
     "output_type": "stream",
     "text": [
      "Avg days per drop of Hoard is 23.71700413083226\n",
      "Avg days per drop of Random Card is 36.07842340511987\n",
      "Avg days per drop of Event Card is 120.58294470353098\n"
     ]
    }
   ],
   "source": [
    "drop_results\n",
    "for key in DragonPetDrops.keys():\n",
    "    avg_drop_days = statistics.mean(drop_results.get(key))\n",
    "    print(f'Avg days per drop of {key} is {avg_drop_days}')\n"
   ]
  },
  {
   "cell_type": "code",
   "execution_count": null,
   "metadata": {},
   "outputs": [],
   "source": []
  },
  {
   "cell_type": "code",
   "execution_count": null,
   "metadata": {},
   "outputs": [],
   "source": []
  }
 ],
 "metadata": {
  "kernelspec": {
   "display_name": "Python 3",
   "language": "python",
   "name": "python3"
  },
  "language_info": {
   "codemirror_mode": {
    "name": "ipython",
    "version": 3
   },
   "file_extension": ".py",
   "mimetype": "text/x-python",
   "name": "python",
   "nbconvert_exporter": "python",
   "pygments_lexer": "ipython3",
   "version": "3.9.6"
  }
 },
 "nbformat": 4,
 "nbformat_minor": 2
}
