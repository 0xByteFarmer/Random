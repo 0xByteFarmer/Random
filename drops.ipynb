{
 "cells": [
  {
   "cell_type": "code",
   "execution_count": 1,
   "metadata": {},
   "outputs": [],
   "source": [
    "import random\n",
    "from typing import TypedDict\n",
    "import statistics\n",
    "import numpy as np"
   ]
  },
  {
   "cell_type": "code",
   "execution_count": 2,
   "metadata": {},
   "outputs": [],
   "source": [
    "PET_LEVEL_TO_DROPRATE_MULTIPLIER = {\n",
    "    0:1.0,\n",
    "    1:1.0,\n",
    "    2:1.0,\n",
    "    3:1.0,\n",
    "    4:1.33,\n",
    "    5:1.67,\n",
    "    6:2.0,\n",
    "    7:2.33,\n",
    "    8:2.67,\n",
    "    9:3.0,\n",
    "    10:3.33,\n",
    "    11:3.67,\n",
    "    12:4.0,\n",
    "}\n",
    "\n",
    "class PetDropRatesDict(TypedDict):\n",
    "    item: str\n",
    "    dropRate: int"
   ]
  },
  {
   "cell_type": "code",
   "execution_count": 3,
   "metadata": {},
   "outputs": [],
   "source": [
    "dragon_pet_drops: PetDropRatesDict = {\n",
    "    \"Hoard\":100,\n",
    "    \"Random Card\":150,\n",
    "    \"Event Card\":500\n",
    "}\n",
    "\n",
    "black_dragon_pet_drops: PetDropRatesDict = {\n",
    "    \"Hoard\":100,\n",
    "    \"Random Card\":150,\n",
    "    \"Event Card\":450\n",
    "}\n",
    "\n",
    "ada_dwarf_drops: PetDropRatesDict = {\n",
    "    \"Adamantium\":200,\n",
    "}\n"
   ]
  },
  {
   "cell_type": "code",
   "execution_count": 4,
   "metadata": {},
   "outputs": [],
   "source": [
    "def run_simulation(sim_days: int, pet_drops_rates:PetDropRatesDict, pet_level:int):\n",
    "    simulation_steps = sim_days*24\n",
    "    pet_level_drop_rate_modifier = PET_LEVEL_TO_DROPRATE_MULTIPLIER[pet_level]\n",
    "    \n",
    "    for key in pet_drops_rates.keys():\n",
    "        chance_to_drop = pet_level_drop_rate_modifier/pet_drops_rates.get(key)\n",
    "        #print(f'Chance to drop {key} is {pet_level_drop_rate_modifier}/{pet_drops_rates.get(key)} = {pet_level_drop_rate_modifier/pet_drops_rates.get(key)} ')\n",
    "\n",
    "    drop_results = dict() # stores list of total days since last drop per each item\n",
    "    steps_since_last_drop = dict() # stores temporary days since last drop count for each item \n",
    "    for drop_item in pet_drops_rates.keys():\n",
    "        drop_results[drop_item] = list()\n",
    "        steps_since_last_drop[drop_item] = 0\n",
    "\n",
    "    last_drop_step = 0\n",
    "    for sim_step in range(simulation_steps):\n",
    "        if((sim_step - last_drop_step) < 24): # one day delay per drop\n",
    "            #print(f'Sim Step is  {sim_step}, last item drop is {last_drop_step} continuing!')\n",
    "            for drop_item in pet_drops_rates.keys(): #increase steps since last drop for each drop item\n",
    "                steps_since_last_drop[drop_item] += 1\n",
    "            \n",
    "            continue #move to next sim step\n",
    "\n",
    "        for drop_item in pet_drops_rates.keys():\n",
    "            chance_to_drop = pet_level_drop_rate_modifier/pet_drops_rates.get(drop_item)\n",
    "            item_dropped = random.random() < chance_to_drop\n",
    "            if(item_dropped):\n",
    "                #print(f'Item {drop_item} dropped after {steps_since_last_drop[drop_item]} steps')\n",
    "                drop_results[drop_item].append(steps_since_last_drop[drop_item]+1) # add one more step to account for this step\n",
    "                steps_since_last_drop[drop_item] = 0 # reset steps since the last time this item dropped\n",
    "                last_drop_step = sim_step # set the global last time any item dropped\n",
    "            else: # no item drop, add step to its count since last drop\n",
    "                steps_since_last_drop[drop_item] += 1\n",
    "    \n",
    "    return drop_results\n",
    "            "
   ]
  },
  {
   "cell_type": "code",
   "execution_count": 5,
   "metadata": {},
   "outputs": [],
   "source": [
    "def run_n_sim(num_sims:int, years_per_sim:int, pet_drops:PetDropRatesDict, pet_level:int):\n",
    "    all_results = dict()\n",
    "    #combine drop time results from all simulations\n",
    "    for n in range(num_sims):\n",
    "        for drop_item in pet_drops.keys():\n",
    "            all_results[drop_item] = list()\n",
    "        \n",
    "        drop_results = run_simulation(years_per_sim*365, pet_drops, pet_level)\n",
    "        for drop_item in pet_drops.keys():\n",
    "            all_results[drop_item].extend(drop_results.get(drop_item))\n",
    "    return all_results"
   ]
  },
  {
   "cell_type": "code",
   "execution_count": 6,
   "metadata": {},
   "outputs": [],
   "source": [
    "def print_n_sims_result(pet_drops:PetDropRatesDict, pet_level, all_results):\n",
    "    # simulation output is in steps, convert steps to days while printing stats \n",
    "    for drop_item in pet_drops.keys():\n",
    "        avg_drop_days = np.mean(all_results.get(drop_item))/24\n",
    "        stddev_drop_days = np.std(all_results.get(drop_item))/24\n",
    "        min_drop_days = np.min(all_results.get(drop_item))/24\n",
    "        max_drop_days = np.max(all_results.get(drop_item))/24\n",
    "        percentile95_drop_days = np.percentile(all_results.get(drop_item),95)/24\n",
    "\n",
    "        drop_string = f'Stats [days] for {drop_item} at static level {pet_level}:\\n ' + \\\n",
    "                    f'Avg: {round(avg_drop_days,2)} StdDev: {round(stddev_drop_days,2)} ' + \\\n",
    "                    f'Min: {round(min_drop_days,2)} Max: {round(max_drop_days,2)} ' + \\\n",
    "                    f'95%ile: {round(percentile95_drop_days,2)}'\n",
    "        print(drop_string)"
   ]
  },
  {
   "cell_type": "code",
   "execution_count": 11,
   "metadata": {},
   "outputs": [
    {
     "name": "stdout",
     "output_type": "stream",
     "text": [
      "Stats [days] for Hoard at static level 12:\n",
      " Avg: 2.81 StdDev: 2.07 Min: 1.0 Max: 21.46 95%ile: 6.83\n",
      "Stats [days] for Random Card at static level 12:\n",
      " Avg: 4.25 StdDev: 3.57 Min: 1.0 Max: 31.33 95%ile: 11.55\n",
      "Stats [days] for Event Card at static level 12:\n",
      " Avg: 14.08 StdDev: 13.36 Min: 1.0 Max: 101.46 95%ile: 41.07\n",
      "\n"
     ]
    }
   ],
   "source": [
    "NUM_SIMS = 10000\n",
    "SIM_YEARS = 30\n",
    "SIM_PET_DROPS = dragon_pet_drops\n",
    "\n",
    "for level in range(12,13):\n",
    "    level_results = run_n_sim(NUM_SIMS, SIM_YEARS, SIM_PET_DROPS, level)\n",
    "    print_n_sims_result(SIM_PET_DROPS, level, level_results)\n",
    "    print()"
   ]
  },
  {
   "cell_type": "code",
   "execution_count": 12,
   "metadata": {},
   "outputs": [
    {
     "name": "stdout",
     "output_type": "stream",
     "text": [
      "Stats [days] for Hoard at static level 12:\n",
      " Avg: 2.8 StdDev: 2.03 Min: 1.0 Max: 19.79 95%ile: 6.95\n",
      "Stats [days] for Random Card at static level 12:\n",
      " Avg: 4.18 StdDev: 3.54 Min: 1.0 Max: 32.25 95%ile: 11.21\n",
      "Stats [days] for Event Card at static level 12:\n",
      " Avg: 12.8 StdDev: 12.18 Min: 1.0 Max: 93.46 95%ile: 38.58\n",
      "\n"
     ]
    }
   ],
   "source": [
    "NUM_SIMS = 10000\n",
    "SIM_YEARS = 30\n",
    "SIM_PET_DROPS = black_dragon_pet_drops\n",
    "\n",
    "for level in range(12,13):\n",
    "    level_results = run_n_sim(NUM_SIMS, SIM_YEARS, SIM_PET_DROPS, level)\n",
    "    print_n_sims_result(SIM_PET_DROPS, level, level_results)\n",
    "    print()"
   ]
  },
  {
   "cell_type": "code",
   "execution_count": null,
   "metadata": {},
   "outputs": [],
   "source": []
  }
 ],
 "metadata": {
  "kernelspec": {
   "display_name": "base",
   "language": "python",
   "name": "python3"
  },
  "language_info": {
   "codemirror_mode": {
    "name": "ipython",
    "version": 3
   },
   "file_extension": ".py",
   "mimetype": "text/x-python",
   "name": "python",
   "nbconvert_exporter": "python",
   "pygments_lexer": "ipython3",
   "version": "3.11.5"
  }
 },
 "nbformat": 4,
 "nbformat_minor": 2
}
